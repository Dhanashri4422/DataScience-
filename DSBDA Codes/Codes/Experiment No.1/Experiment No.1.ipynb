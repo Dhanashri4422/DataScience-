{
 "cells": [
  {
   "cell_type": "markdown",
   "id": "57dd06ea",
   "metadata": {},
   "source": [
    "Step 1:- \n",
    "\n",
    "Import all the required Python Libraries"
   ]
  },
  {
   "cell_type": "code",
   "execution_count": 1,
   "id": "7e55d203",
   "metadata": {},
   "outputs": [],
   "source": [
    "import pandas as pd"
   ]
  },
  {
   "cell_type": "code",
   "execution_count": 2,
   "id": "7e79435c",
   "metadata": {},
   "outputs": [],
   "source": [
    "import numpy as np"
   ]
  },
  {
   "cell_type": "code",
   "execution_count": 3,
   "id": "a6120950",
   "metadata": {},
   "outputs": [],
   "source": [
    "import matplotlib.pyplot as plt"
   ]
  },
  {
   "cell_type": "code",
   "execution_count": 4,
   "id": "9566cda4",
   "metadata": {},
   "outputs": [],
   "source": [
    "%matplotlib inline"
   ]
  },
  {
   "cell_type": "code",
   "execution_count": 5,
   "id": "e3bb1f3e",
   "metadata": {},
   "outputs": [],
   "source": [
    "from sklearn import metrics"
   ]
  },
  {
   "cell_type": "code",
   "execution_count": 6,
   "id": "9bcc7e1b",
   "metadata": {},
   "outputs": [],
   "source": [
    "from sklearn.neighbors import KNeighborsClassifier"
   ]
  },
  {
   "cell_type": "code",
   "execution_count": 7,
   "id": "abc42563",
   "metadata": {},
   "outputs": [],
   "source": [
    "from sklearn.linear_model import LogisticRegression"
   ]
  },
  {
   "cell_type": "code",
   "execution_count": 8,
   "id": "8f4e3cb0",
   "metadata": {},
   "outputs": [],
   "source": [
    "from sklearn.model_selection import train_test_split"
   ]
  },
  {
   "cell_type": "markdown",
   "id": "0dd50cd9",
   "metadata": {},
   "source": [
    "Step 2:-\n",
    "\n",
    "Locate an open source data from the web (e.g. https://www.kaggle.com). Provide a clear description of the data and its source (i.e. URL of the web site).\n",
    "Description: I’ve used  here the data set of Generic Food "
   ]
  },
  {
   "cell_type": "markdown",
   "id": "7aa8f4c0",
   "metadata": {},
   "source": [
    "Step 3:-\n",
    "\n",
    "Load the Dataset into Pandas DataFrame"
   ]
  },
  {
   "cell_type": "code",
   "execution_count": 11,
   "id": "95f51aef",
   "metadata": {},
   "outputs": [],
   "source": [
    "df = pd.read_csv('https://query.data.world/s/hkgtwha5bibgaxwteuma3mlzgei2zv?dws=00000')"
   ]
  },
  {
   "cell_type": "code",
   "execution_count": 12,
   "id": "be080b47",
   "metadata": {},
   "outputs": [
    {
     "data": {
      "text/html": [
       "<div>\n",
       "<style scoped>\n",
       "    .dataframe tbody tr th:only-of-type {\n",
       "        vertical-align: middle;\n",
       "    }\n",
       "\n",
       "    .dataframe tbody tr th {\n",
       "        vertical-align: top;\n",
       "    }\n",
       "\n",
       "    .dataframe thead th {\n",
       "        text-align: right;\n",
       "    }\n",
       "</style>\n",
       "<table border=\"1\" class=\"dataframe\">\n",
       "  <thead>\n",
       "    <tr style=\"text-align: right;\">\n",
       "      <th></th>\n",
       "      <th>FOOD NAME</th>\n",
       "      <th>SCIENTIFIC NAME</th>\n",
       "      <th>GROUP</th>\n",
       "      <th>SUB GROUP</th>\n",
       "    </tr>\n",
       "  </thead>\n",
       "  <tbody>\n",
       "    <tr>\n",
       "      <th>0</th>\n",
       "      <td>Angelica</td>\n",
       "      <td>Angelica keiskei</td>\n",
       "      <td>Herbs and Spices</td>\n",
       "      <td>Herbs</td>\n",
       "    </tr>\n",
       "    <tr>\n",
       "      <th>1</th>\n",
       "      <td>Savoy cabbage</td>\n",
       "      <td>Brassica oleracea var. sabauda</td>\n",
       "      <td>Vegetables</td>\n",
       "      <td>Cabbages</td>\n",
       "    </tr>\n",
       "    <tr>\n",
       "      <th>2</th>\n",
       "      <td>Silver linden</td>\n",
       "      <td>Tilia argentea</td>\n",
       "      <td>Herbs and Spices</td>\n",
       "      <td>Herbs</td>\n",
       "    </tr>\n",
       "    <tr>\n",
       "      <th>3</th>\n",
       "      <td>Kiwi</td>\n",
       "      <td>Actinidia chinensis</td>\n",
       "      <td>Fruits</td>\n",
       "      <td>Tropical fruits</td>\n",
       "    </tr>\n",
       "    <tr>\n",
       "      <th>4</th>\n",
       "      <td>Allium (Onion)</td>\n",
       "      <td>Allium</td>\n",
       "      <td>Vegetables</td>\n",
       "      <td>Onion-family vegetables</td>\n",
       "    </tr>\n",
       "    <tr>\n",
       "      <th>...</th>\n",
       "      <td>...</td>\n",
       "      <td>...</td>\n",
       "      <td>...</td>\n",
       "      <td>...</td>\n",
       "    </tr>\n",
       "    <tr>\n",
       "      <th>902</th>\n",
       "      <td>Romaine lettuce</td>\n",
       "      <td>Lactuca sativa L. var. longifolia</td>\n",
       "      <td>Vegetables</td>\n",
       "      <td>Leaf vegetables</td>\n",
       "    </tr>\n",
       "    <tr>\n",
       "      <th>903</th>\n",
       "      <td>Cow milk, pasteurized, vitamin A + D added, 0%...</td>\n",
       "      <td>NaN</td>\n",
       "      <td>Milk and milk products</td>\n",
       "      <td>Unfermented milks</td>\n",
       "    </tr>\n",
       "    <tr>\n",
       "      <th>904</th>\n",
       "      <td>Cow milk, pasteurized, vitamin A + D added, 1%...</td>\n",
       "      <td>NaN</td>\n",
       "      <td>Milk and milk products</td>\n",
       "      <td>Unfermented milks</td>\n",
       "    </tr>\n",
       "    <tr>\n",
       "      <th>905</th>\n",
       "      <td>Cow milk, pasteurized, vitamin A + D added, 2%...</td>\n",
       "      <td>NaN</td>\n",
       "      <td>Milk and milk products</td>\n",
       "      <td>Unfermented milks</td>\n",
       "    </tr>\n",
       "    <tr>\n",
       "      <th>906</th>\n",
       "      <td>Cow milk, pasteurized, vitamin D added, 3.25% fat</td>\n",
       "      <td>NaN</td>\n",
       "      <td>Milk and milk products</td>\n",
       "      <td>Unfermented milks</td>\n",
       "    </tr>\n",
       "  </tbody>\n",
       "</table>\n",
       "<p>907 rows × 4 columns</p>\n",
       "</div>"
      ],
      "text/plain": [
       "                                             FOOD NAME  \\\n",
       "0                                             Angelica   \n",
       "1                                        Savoy cabbage   \n",
       "2                                        Silver linden   \n",
       "3                                                 Kiwi   \n",
       "4                                       Allium (Onion)   \n",
       "..                                                 ...   \n",
       "902                                    Romaine lettuce   \n",
       "903  Cow milk, pasteurized, vitamin A + D added, 0%...   \n",
       "904  Cow milk, pasteurized, vitamin A + D added, 1%...   \n",
       "905  Cow milk, pasteurized, vitamin A + D added, 2%...   \n",
       "906  Cow milk, pasteurized, vitamin D added, 3.25% fat   \n",
       "\n",
       "                       SCIENTIFIC NAME                   GROUP  \\\n",
       "0                     Angelica keiskei        Herbs and Spices   \n",
       "1       Brassica oleracea var. sabauda              Vegetables   \n",
       "2                       Tilia argentea        Herbs and Spices   \n",
       "3                  Actinidia chinensis                  Fruits   \n",
       "4                               Allium              Vegetables   \n",
       "..                                 ...                     ...   \n",
       "902  Lactuca sativa L. var. longifolia              Vegetables   \n",
       "903                                NaN  Milk and milk products   \n",
       "904                                NaN  Milk and milk products   \n",
       "905                                NaN  Milk and milk products   \n",
       "906                                NaN  Milk and milk products   \n",
       "\n",
       "                   SUB GROUP  \n",
       "0                      Herbs  \n",
       "1                   Cabbages  \n",
       "2                      Herbs  \n",
       "3            Tropical fruits  \n",
       "4    Onion-family vegetables  \n",
       "..                       ...  \n",
       "902          Leaf vegetables  \n",
       "903        Unfermented milks  \n",
       "904        Unfermented milks  \n",
       "905        Unfermented milks  \n",
       "906        Unfermented milks  \n",
       "\n",
       "[907 rows x 4 columns]"
      ]
     },
     "execution_count": 12,
     "metadata": {},
     "output_type": "execute_result"
    }
   ],
   "source": [
    "df"
   ]
  },
  {
   "cell_type": "markdown",
   "id": "4c76cf2d",
   "metadata": {},
   "source": [
    "Step 4:-\n",
    "    \n",
    "Data Preprocessing: check for missing values in the data using pandas isnull(),\n",
    "describe() function to get some initial statistics. Provide variable descriptions.\n",
    "Types of variables etc. Check the dimensions of the data frame."
   ]
  },
  {
   "cell_type": "markdown",
   "id": "21c703b9",
   "metadata": {},
   "source": [
    "isnull() : to check the missing values"
   ]
  },
  {
   "cell_type": "code",
   "execution_count": 13,
   "id": "5595b181",
   "metadata": {},
   "outputs": [
    {
     "data": {
      "text/html": [
       "<div>\n",
       "<style scoped>\n",
       "    .dataframe tbody tr th:only-of-type {\n",
       "        vertical-align: middle;\n",
       "    }\n",
       "\n",
       "    .dataframe tbody tr th {\n",
       "        vertical-align: top;\n",
       "    }\n",
       "\n",
       "    .dataframe thead th {\n",
       "        text-align: right;\n",
       "    }\n",
       "</style>\n",
       "<table border=\"1\" class=\"dataframe\">\n",
       "  <thead>\n",
       "    <tr style=\"text-align: right;\">\n",
       "      <th></th>\n",
       "      <th>FOOD NAME</th>\n",
       "      <th>SCIENTIFIC NAME</th>\n",
       "      <th>GROUP</th>\n",
       "      <th>SUB GROUP</th>\n",
       "    </tr>\n",
       "  </thead>\n",
       "  <tbody>\n",
       "    <tr>\n",
       "      <th>0</th>\n",
       "      <td>False</td>\n",
       "      <td>False</td>\n",
       "      <td>False</td>\n",
       "      <td>False</td>\n",
       "    </tr>\n",
       "    <tr>\n",
       "      <th>1</th>\n",
       "      <td>False</td>\n",
       "      <td>False</td>\n",
       "      <td>False</td>\n",
       "      <td>False</td>\n",
       "    </tr>\n",
       "    <tr>\n",
       "      <th>2</th>\n",
       "      <td>False</td>\n",
       "      <td>False</td>\n",
       "      <td>False</td>\n",
       "      <td>False</td>\n",
       "    </tr>\n",
       "    <tr>\n",
       "      <th>3</th>\n",
       "      <td>False</td>\n",
       "      <td>False</td>\n",
       "      <td>False</td>\n",
       "      <td>False</td>\n",
       "    </tr>\n",
       "    <tr>\n",
       "      <th>4</th>\n",
       "      <td>False</td>\n",
       "      <td>False</td>\n",
       "      <td>False</td>\n",
       "      <td>False</td>\n",
       "    </tr>\n",
       "    <tr>\n",
       "      <th>...</th>\n",
       "      <td>...</td>\n",
       "      <td>...</td>\n",
       "      <td>...</td>\n",
       "      <td>...</td>\n",
       "    </tr>\n",
       "    <tr>\n",
       "      <th>902</th>\n",
       "      <td>False</td>\n",
       "      <td>False</td>\n",
       "      <td>False</td>\n",
       "      <td>False</td>\n",
       "    </tr>\n",
       "    <tr>\n",
       "      <th>903</th>\n",
       "      <td>False</td>\n",
       "      <td>True</td>\n",
       "      <td>False</td>\n",
       "      <td>False</td>\n",
       "    </tr>\n",
       "    <tr>\n",
       "      <th>904</th>\n",
       "      <td>False</td>\n",
       "      <td>True</td>\n",
       "      <td>False</td>\n",
       "      <td>False</td>\n",
       "    </tr>\n",
       "    <tr>\n",
       "      <th>905</th>\n",
       "      <td>False</td>\n",
       "      <td>True</td>\n",
       "      <td>False</td>\n",
       "      <td>False</td>\n",
       "    </tr>\n",
       "    <tr>\n",
       "      <th>906</th>\n",
       "      <td>False</td>\n",
       "      <td>True</td>\n",
       "      <td>False</td>\n",
       "      <td>False</td>\n",
       "    </tr>\n",
       "  </tbody>\n",
       "</table>\n",
       "<p>907 rows × 4 columns</p>\n",
       "</div>"
      ],
      "text/plain": [
       "     FOOD NAME  SCIENTIFIC NAME  GROUP  SUB GROUP\n",
       "0        False            False  False      False\n",
       "1        False            False  False      False\n",
       "2        False            False  False      False\n",
       "3        False            False  False      False\n",
       "4        False            False  False      False\n",
       "..         ...              ...    ...        ...\n",
       "902      False            False  False      False\n",
       "903      False             True  False      False\n",
       "904      False             True  False      False\n",
       "905      False             True  False      False\n",
       "906      False             True  False      False\n",
       "\n",
       "[907 rows x 4 columns]"
      ]
     },
     "execution_count": 13,
     "metadata": {},
     "output_type": "execute_result"
    }
   ],
   "source": [
    "df.isnull()"
   ]
  },
  {
   "cell_type": "markdown",
   "id": "4f3e9d8b",
   "metadata": {},
   "source": [
    "describe() : returns the statistical summary of dataframe or series."
   ]
  },
  {
   "cell_type": "code",
   "execution_count": 14,
   "id": "fd4a7d59",
   "metadata": {},
   "outputs": [
    {
     "data": {
      "text/html": [
       "<div>\n",
       "<style scoped>\n",
       "    .dataframe tbody tr th:only-of-type {\n",
       "        vertical-align: middle;\n",
       "    }\n",
       "\n",
       "    .dataframe tbody tr th {\n",
       "        vertical-align: top;\n",
       "    }\n",
       "\n",
       "    .dataframe thead th {\n",
       "        text-align: right;\n",
       "    }\n",
       "</style>\n",
       "<table border=\"1\" class=\"dataframe\">\n",
       "  <thead>\n",
       "    <tr style=\"text-align: right;\">\n",
       "      <th></th>\n",
       "      <th>FOOD NAME</th>\n",
       "      <th>SCIENTIFIC NAME</th>\n",
       "      <th>GROUP</th>\n",
       "      <th>SUB GROUP</th>\n",
       "    </tr>\n",
       "  </thead>\n",
       "  <tbody>\n",
       "    <tr>\n",
       "      <th>count</th>\n",
       "      <td>907</td>\n",
       "      <td>648</td>\n",
       "      <td>907</td>\n",
       "      <td>907</td>\n",
       "    </tr>\n",
       "    <tr>\n",
       "      <th>unique</th>\n",
       "      <td>907</td>\n",
       "      <td>639</td>\n",
       "      <td>24</td>\n",
       "      <td>123</td>\n",
       "    </tr>\n",
       "    <tr>\n",
       "      <th>top</th>\n",
       "      <td>Angelica</td>\n",
       "      <td>Capsicum annuum</td>\n",
       "      <td>Aquatic foods</td>\n",
       "      <td>Fishes</td>\n",
       "    </tr>\n",
       "    <tr>\n",
       "      <th>freq</th>\n",
       "      <td>1</td>\n",
       "      <td>6</td>\n",
       "      <td>166</td>\n",
       "      <td>111</td>\n",
       "    </tr>\n",
       "  </tbody>\n",
       "</table>\n",
       "</div>"
      ],
      "text/plain": [
       "       FOOD NAME  SCIENTIFIC NAME          GROUP SUB GROUP\n",
       "count        907              648            907       907\n",
       "unique       907              639             24       123\n",
       "top     Angelica  Capsicum annuum  Aquatic foods    Fishes\n",
       "freq           1                6            166       111"
      ]
     },
     "execution_count": 14,
     "metadata": {},
     "output_type": "execute_result"
    }
   ],
   "source": [
    "df.describe()"
   ]
  },
  {
   "cell_type": "markdown",
   "id": "13a7e5f4",
   "metadata": {},
   "source": [
    "size() : count the number of element along given axis.\n",
    "shape() : gives the number of elements in each dimension of an array.\n",
    "ndim() : return the number of dimensions of an array."
   ]
  },
  {
   "cell_type": "code",
   "execution_count": 15,
   "id": "d0243424",
   "metadata": {},
   "outputs": [],
   "source": [
    "size = df.size"
   ]
  },
  {
   "cell_type": "code",
   "execution_count": 16,
   "id": "699d65b3",
   "metadata": {},
   "outputs": [],
   "source": [
    "shape = df.shape"
   ]
  },
  {
   "cell_type": "code",
   "execution_count": 17,
   "id": "3eb9a788",
   "metadata": {},
   "outputs": [],
   "source": [
    "df_ndim = df.ndim"
   ]
  },
  {
   "cell_type": "code",
   "execution_count": 21,
   "id": "7451b8e7",
   "metadata": {},
   "outputs": [],
   "source": [
    "series_ndim = df[\"SCIENTIFIC NAME\"].ndim"
   ]
  },
  {
   "cell_type": "markdown",
   "id": "7d557e9a",
   "metadata": {},
   "source": [
    "Step 5:-\n",
    "\n",
    "Data Formatting and Data Normalization: Summarize the types of variables by checking the data types (i.e., character, numeric, integer, factor, and logical) of the variables in the data set. If variables are not in the correct data type, apply proper type conversions."
   ]
  },
  {
   "cell_type": "markdown",
   "id": "9bcf4177",
   "metadata": {},
   "source": [
    "dtypes: to check the data types of colums in a DataFrame."
   ]
  },
  {
   "cell_type": "code",
   "execution_count": 23,
   "id": "74ff3bf5",
   "metadata": {},
   "outputs": [],
   "source": [
    "dataTypeSeries = df.dtypes"
   ]
  },
  {
   "cell_type": "code",
   "execution_count": 24,
   "id": "aad09db2",
   "metadata": {},
   "outputs": [
    {
     "name": "stdout",
     "output_type": "stream",
     "text": [
      "Data Type of Each column of DataFrame is: \n",
      "FOOD NAME          object\n",
      "SCIENTIFIC NAME    object\n",
      "GROUP              object\n",
      "SUB GROUP          object\n",
      "dtype: object\n"
     ]
    }
   ],
   "source": [
    "print(\"Data Type of Each column of DataFrame is: \")\n",
    "print(dataTypeSeries)"
   ]
  }
 ],
 "metadata": {
  "kernelspec": {
   "display_name": "Python 3 (ipykernel)",
   "language": "python",
   "name": "python3"
  },
  "language_info": {
   "codemirror_mode": {
    "name": "ipython",
    "version": 3
   },
   "file_extension": ".py",
   "mimetype": "text/x-python",
   "name": "python",
   "nbconvert_exporter": "python",
   "pygments_lexer": "ipython3",
   "version": "3.9.13"
  }
 },
 "nbformat": 4,
 "nbformat_minor": 5
}
